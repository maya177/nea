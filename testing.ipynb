{
 "cells": [
  {
   "cell_type": "code",
   "execution_count": 1,
   "metadata": {},
   "outputs": [
    {
     "name": "stdout",
     "output_type": "stream",
     "text": [
      "ced6ae201b2503a01f7a79122a75b380\n"
     ]
    }
   ],
   "source": [
    "import hashlib\n",
    "password = \"Pas$word98\"\n",
    "hash = hashlib.md5(password.encode())\n",
    "print(hash.hexdigest())"
   ]
  },
  {
   "cell_type": "code",
   "execution_count": null,
   "metadata": {},
   "outputs": [],
   "source": []
  }
 ],
 "metadata": {
  "kernelspec": {
   "display_name": "Python 3.7.11 ('base')",
   "language": "python",
   "name": "python3"
  },
  "language_info": {
   "codemirror_mode": {
    "name": "ipython",
    "version": 3
   },
   "file_extension": ".py",
   "mimetype": "text/x-python",
   "name": "python",
   "nbconvert_exporter": "python",
   "pygments_lexer": "ipython3",
   "version": "3.7.11"
  },
  "orig_nbformat": 4,
  "vscode": {
   "interpreter": {
    "hash": "abeea22fe2481f6cfc2af0e9e3e960f0637e8e2701e93f4885d1e958e8177448"
   }
  }
 },
 "nbformat": 4,
 "nbformat_minor": 2
}
